{
  "nbformat": 4,
  "nbformat_minor": 0,
  "metadata": {
    "colab": {
      "name": "Studenti-IntroToORTools.ipynb",
      "provenance": [],
      "collapsed_sections": [
        "NbDxz6ECm-U-",
        "Vy4gG_b1nEQc",
        "FPZmKjJd8fqg"
      ],
      "include_colab_link": true
    },
    "kernelspec": {
      "name": "python3",
      "display_name": "Python 3"
    },
    "language_info": {
      "name": "python"
    }
  },
  "cells": [
    {
      "cell_type": "markdown",
      "metadata": {
        "id": "view-in-github",
        "colab_type": "text"
      },
      "source": [
        "<a href=\"https://colab.research.google.com/github/CarlottaVattolo/Esame/blob/main/Studenti_IntroToORTools.ipynb\" target=\"_parent\"><img src=\"https://colab.research.google.com/assets/colab-badge.svg\" alt=\"Open In Colab\"/></a>"
      ]
    },
    {
      "cell_type": "markdown",
      "source": [
        "### Install an Import OR-Tools Package"
      ],
      "metadata": {
        "id": "NbDxz6ECm-U-"
      }
    },
    {
      "cell_type": "code",
      "execution_count": null,
      "metadata": {
        "id": "G1XHgWkQoWGB"
      },
      "outputs": [],
      "source": [
        "!pip install ortools"
      ]
    },
    {
      "cell_type": "markdown",
      "source": [
        "Import LP solver wrapper "
      ],
      "metadata": {
        "id": "gs1ScBwSqpTn"
      }
    },
    {
      "cell_type": "code",
      "source": [
        "from ortools.linear_solver import pywraplp\n",
        "from ortools.init import pywrapinit\n",
        "import numpy as np"
      ],
      "metadata": {
        "id": "P4YH-BM7pJBD"
      },
      "execution_count": null,
      "outputs": []
    },
    {
      "cell_type": "markdown",
      "source": [
        "### Solve the Linear Problem\n",
        "\\begin{align}\n",
        "  \\text{maximize}\\ &250x_1 + 230x_2 + 110x_3 + 350x_4 + 110x_5\\\\\n",
        "                  &s.t.\\\\\n",
        "                  &0\\le\\ x_i \\lt \\infty\\\\\n",
        "                  &2x_1 + 1.5x_2 + 0.5x_3 + 2.5x_4 \\leq 100.\\\\\n",
        "                  &0.5x_1 + 0.25x_2 + 0.25x_3 + x_4 \\leq 50\\\\\n",
        "                  &x_1 + x_2 \\geq 10\\\\\n",
        "                  &x_3 = x_5\\\\\n",
        "\\end{align}"
      ],
      "metadata": {
        "id": "Vy4gG_b1nEQc"
      }
    },
    {
      "cell_type": "markdown",
      "source": [
        "Create the solver using the GLOP backend, documentation @ https://developers.google.com/optimization/reference/python/linear_solver/pywraplp"
      ],
      "metadata": {
        "id": "j0E7jNprqxlW"
      }
    },
    {
      "cell_type": "code",
      "source": [
        "solver = pywraplp.Solver.CreateSolver('GLOP')"
      ],
      "metadata": {
        "id": "FZuxCN7NqLxh"
      },
      "execution_count": null,
      "outputs": []
    },
    {
      "cell_type": "markdown",
      "source": [
        "Create variables $x_1, \\dots, x_4$ in the range $0\\le x_i \\lt \\infty$"
      ],
      "metadata": {
        "id": "tDVFJ5nAr6QK"
      }
    },
    {
      "cell_type": "code",
      "source": [
        "lb = 0\n",
        "ub = float('inf')\n",
        "x = np.array([solver.NumVar(lb, ub, f\"x_{i}\") for i in range(1, 6)])"
      ],
      "metadata": {
        "id": "DJjaOZBzqSYS"
      },
      "execution_count": null,
      "outputs": []
    },
    {
      "cell_type": "markdown",
      "source": [
        "Access variables in the solver"
      ],
      "metadata": {
        "id": "DyB3VjUZu0li"
      }
    },
    {
      "cell_type": "code",
      "source": [
        "print(f\"Number of variables {solver.NumVariables()}\")\n",
        "x_1_ptr, x_2_ptr = solver.variable(0), solver.variable(1)\n",
        "print(\"Type of variables: \", type(x_1_ptr), type(x_1_ptr))"
      ],
      "metadata": {
        "id": "l2Crid1PsysF"
      },
      "execution_count": null,
      "outputs": []
    },
    {
      "cell_type": "markdown",
      "source": [
        "Add constraints \n",
        "\\begin{align}\n",
        "0 \\leq\\ &2x_1 + 1.5x_2 + 0.5x_3 + 2.5x_4 \\leq 100.\\\\\n",
        "0 \\leq\\ &0.5x_1 + 0.25x_2 + 0.25x_3 + x_4 \\leq 50\n",
        "\\end{align}"
      ],
      "metadata": {
        "id": "ca1Gg-xlu-HM"
      }
    },
    {
      "cell_type": "code",
      "source": [
        "ct1_lb = 0\n",
        "ct1_ub = 100\n",
        "ct1 = solver.Constraint(ct1_lb, ct1_ub, \"ct1\")"
      ],
      "metadata": {
        "id": "OO_VjQV_tn7f"
      },
      "execution_count": null,
      "outputs": []
    },
    {
      "cell_type": "code",
      "source": [
        "print(f\"Number of constraints: {solver.NumConstraints()}\")\n",
        "print(f\"Constraint lower and upper bounds: {ct1.lb()}, {ct1.ub()}\")\n",
        "print(f\"Default variable coefficients in the constraint: {[ct1.GetCoefficient(xi) for xi in x]}\")\n",
        "ct1.SetCoefficient(x[0], 2.)\n",
        "ct1.SetCoefficient(x[1], 1.5)\n",
        "ct1.SetCoefficient(x[2], 0.5)\n",
        "ct1.SetCoefficient(x[3], 2.5)\n",
        "ct1.SetCoefficient(x[4], 0.7)\n",
        "print(f\"Set variable coefficients in the constraint: {[ct1.GetCoefficient(xi) for xi in x]}\")"
      ],
      "metadata": {
        "id": "LT6i7pODwjVj"
      },
      "execution_count": null,
      "outputs": []
    },
    {
      "cell_type": "code",
      "source": [
        "ct2_lb = 0\n",
        "ct2_ub = 50\n",
        "ct2_coefs = np.array([0.5, 0.25, 0.25, 1, 0.3])\n",
        "x_arr = np.array(x)\n",
        "ct2 = solver.Add(ct2_lb <= sum(ct2_coefs * x_arr) <= ct2_ub)\n",
        "print(f\"Constraint 2 coefficients: {[ct2.GetCoefficient(xi) for xi in x]}\")\n",
        "\n"
      ],
      "metadata": {
        "id": "du2XC93GA3HV"
      },
      "execution_count": null,
      "outputs": []
    },
    {
      "cell_type": "markdown",
      "source": [
        "Add constraints \n",
        "\\begin{align}\n",
        "x_1 + x_2 &\\geq 10.\\\\\n",
        "x_3 &= x_5 \n",
        "\\end{align}"
      ],
      "metadata": {
        "id": "2AGlbleQsoxB"
      }
    },
    {
      "cell_type": "code",
      "source": [
        "ct3 = solver.Add(x[0] + x[1] >= 10)\n",
        "ct4 = solver.Add(x[2] == x[4])"
      ],
      "metadata": {
        "id": "hTbTVMLlBWSi"
      },
      "execution_count": null,
      "outputs": []
    },
    {
      "cell_type": "markdown",
      "source": [
        "Create the objective function $250x_1 + 230x_2 + 110x_3 + 350x_4 +110x_5$ and set it for maximization"
      ],
      "metadata": {
        "id": "3Neptj_UycRH"
      }
    },
    {
      "cell_type": "code",
      "source": [
        "obj = solver.Objective()\n",
        "obj.SetMaximization()\n",
        "print(f\"Default variable coefficients in the objective: {[obj.GetCoefficient(xi) for xi in x]}\")\n",
        "obj_coefs = [250, 230, 110, 350, 110]\n",
        "for xi, ci in zip(x, obj_coefs):\n",
        "  obj.SetCoefficient(xi, ci)\n",
        "print(f\"Set variable coefficients in the objective:  {[obj.GetCoefficient(xi) for xi in x]}\")\n",
        "\n",
        "# Or more concice:\n",
        "#obj_coefs = np.array([250, 230, 110, 350])\n",
        "#solver.Maximize(sum(x * obj_coefs))"
      ],
      "metadata": {
        "id": "U1bEoOifysjK"
      },
      "execution_count": null,
      "outputs": []
    },
    {
      "cell_type": "markdown",
      "source": [
        "Solve the optimization problem"
      ],
      "metadata": {
        "id": "8rmex4ds-Leu"
      }
    },
    {
      "cell_type": "code",
      "source": [
        "status = solver.Solve()\n",
        "print('Solution:')\n",
        "print('Objective value =', solver.Objective().Value())\n",
        "for xi in x:\n",
        "  print(f\"{xi} = {xi.solution_value()}\")"
      ],
      "metadata": {
        "id": "AFdK9xV0zMsr"
      },
      "execution_count": null,
      "outputs": []
    },
    {
      "cell_type": "markdown",
      "source": [
        "### Solve the dual problem"
      ],
      "metadata": {
        "id": "FPZmKjJd8fqg"
      }
    },
    {
      "cell_type": "code",
      "source": [
        "dual_solver = ..."
      ],
      "metadata": {
        "id": "Ar3lZoZF9gKF"
      },
      "execution_count": null,
      "outputs": []
    },
    {
      "cell_type": "markdown",
      "source": [
        "Add variables "
      ],
      "metadata": {
        "id": "0O1Jfj5w9rDR"
      }
    },
    {
      "cell_type": "code",
      "source": [
        "p = ...\n",
        "p_arr = np.array([...])"
      ],
      "metadata": {
        "id": "YgEXxik29xgw"
      },
      "execution_count": null,
      "outputs": []
    },
    {
      "cell_type": "markdown",
      "source": [
        "Add constraints "
      ],
      "metadata": {
        "id": "1NugV57X-v1L"
      }
    },
    {
      "cell_type": "code",
      "source": [
        "dual_constraints = ..."
      ],
      "metadata": {
        "id": "nZ9vhFl3-vJR"
      },
      "execution_count": null,
      "outputs": []
    },
    {
      "cell_type": "markdown",
      "source": [
        "Set objective function "
      ],
      "metadata": {
        "id": "l9vjotkaA80F"
      }
    },
    {
      "cell_type": "code",
      "source": [
        "..."
      ],
      "metadata": {
        "id": "VXLXTZzQVb5G"
      },
      "execution_count": null,
      "outputs": []
    },
    {
      "cell_type": "code",
      "source": [
        "dual_solver.Solve()\n",
        "print('Solution:')\n",
        "print('Objective value =', dual_solver.Objective().Value())\n",
        "for pi in dual_solver.variables():\n",
        "  print(f\"{pi} = {pi.solution_value()}\")"
      ],
      "metadata": {
        "id": "TNT3y7DfgXoa"
      },
      "execution_count": null,
      "outputs": []
    },
    {
      "cell_type": "markdown",
      "source": [
        "Check that solutions match with dual values provided by OR tools for each constraint in the primal and dual"
      ],
      "metadata": {
        "id": "OjmQp5y_CeJw"
      }
    },
    {
      "cell_type": "code",
      "source": [
        "print(\"Primal constraints dual values:\")\n",
        "print(f\"\\tct  dual value = {ct1.dual_value():.2f}\")\n",
        "print(f\"\\tct2 dual value = {ct2.dual_value():.2f}\")\n",
        "print(f\"\\tct3 dual value = {ct3.dual_value():.2f}\")\n",
        "print(f\"\\tct4 dual value = {ct4.dual_value():.2f}\")"
      ],
      "metadata": {
        "id": "rdFHPS1iB0GQ"
      },
      "execution_count": null,
      "outputs": []
    },
    {
      "cell_type": "code",
      "source": [
        "print(\"Dual constraints dual values:\")\n",
        "for i, c in enumerate(dual_constraints):\n",
        "  print(f\"\\t ct{i} dual value: {c.dual_value():.2f}\")"
      ],
      "metadata": {
        "id": "9GX7l4siB-O7"
      },
      "execution_count": null,
      "outputs": []
    }
  ]
}