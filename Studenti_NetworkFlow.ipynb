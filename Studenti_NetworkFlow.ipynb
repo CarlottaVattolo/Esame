{
  "nbformat": 4,
  "nbformat_minor": 0,
  "metadata": {
    "colab": {
      "name": "Studenti-NetworkFlow.ipynb",
      "provenance": [],
      "collapsed_sections": [
        "bgn0OczE1aev",
        "0dUCax1I6QnN",
        "FC0okQhFHX3-",
        "fd1klECqPTW4"
      ],
      "include_colab_link": true
    },
    "kernelspec": {
      "name": "python3",
      "display_name": "Python 3"
    },
    "language_info": {
      "name": "python"
    }
  },
  "cells": [
    {
      "cell_type": "markdown",
      "metadata": {
        "id": "view-in-github",
        "colab_type": "text"
      },
      "source": [
        "<a href=\"https://colab.research.google.com/github/CarlottaVattolo/Esame/blob/main/Studenti_NetworkFlow.ipynb\" target=\"_parent\"><img src=\"https://colab.research.google.com/assets/colab-badge.svg\" alt=\"Open In Colab\"/></a>"
      ]
    },
    {
      "cell_type": "markdown",
      "source": [
        "## Network Flow Problems"
      ],
      "metadata": {
        "id": "bgn0OczE1aev"
      }
    },
    {
      "cell_type": "code",
      "source": [
        "!pip3 install gurobipy\n",
        "!pip3 install ortools"
      ],
      "metadata": {
        "id": "6JwddZ0X7SDz"
      },
      "execution_count": null,
      "outputs": []
    },
    {
      "cell_type": "markdown",
      "source": [
        "## Multi-Commodity Network Flow w/Gurobi"
      ],
      "metadata": {
        "id": "0dUCax1I6QnN"
      }
    },
    {
      "cell_type": "markdown",
      "source": [
        "We have two products, 'Pencils' and 'Pens', that are produced in two cities, 'Denver' and 'Detroit'. Our goal is to minimize the cost of delivering them to 'Boston', 'New York' and 'Seattle' in order to satify their demand. \n",
        "\\begin{align}\n",
        "  \\text{minimize} &\\sum_{pij} c_{pij}\\times f_{pij}\\\\\n",
        "            &s.t.\\\\\n",
        "            \\sum_p f_{pij} &\\leq h_{ij},\\ \\forall\\ i, j \\in \\text{Arcs}\\\\\n",
        "            \\sum_{i} f_{pij} + b_{pj} &== \\sum_{i} f_{pij}, \\forall p, \\forall j\n",
        "\\end{align}\n",
        "where $c_{pij}$ is the cost of transporting one unit of commodity $p$ from $i$ to $j$, while $f_{pij}$ is the transported quantity, $h_{ij}$ the capacity of the connection and $b_{pj}$ the inflow in $j$."
      ],
      "metadata": {
        "id": "xEPEavk_6eUT"
      }
    },
    {
      "cell_type": "code",
      "source": [
        "import gurobipy as gp\n",
        "from gurobipy import GRB"
      ],
      "metadata": {
        "id": "g3uztKHK7tJw"
      },
      "execution_count": null,
      "outputs": []
    },
    {
      "cell_type": "markdown",
      "source": [
        "Define the commodities and cities"
      ],
      "metadata": {
        "id": "Tajq2q7V73AP"
      }
    },
    {
      "cell_type": "code",
      "execution_count": null,
      "metadata": {
        "id": "8D7UI7Wd1XC1"
      },
      "outputs": [],
      "source": [
        "commodities = ['Pencils', 'Pens']\n",
        "nodes = ['Denver', 'Detroit', 'Boston', 'New York', 'Seattle']"
      ]
    },
    {
      "cell_type": "markdown",
      "source": [
        "Define the arcs and their capacity, $h_{ij}$, using the multidict in gurobipy (https://www.gurobi.com/documentation/9.5/refman/py_multidict.html)"
      ],
      "metadata": {
        "id": "GRmW9bfE8GJG"
      }
    },
    {
      "cell_type": "code",
      "source": [
        "# EXAMPLE of multidict usage:\n",
        "keys, dict1, dict2, dict3 = gp.multidict({'key1': ('a', 'b', 'c'), 'key2': ('x', 'y', 'z')})\n",
        "print(f\"Keys: {keys}\\nDict1: {dict1}\\nDict2: {dict2}\\nDict3: {dict3}\")"
      ],
      "metadata": {
        "id": "4PZcIxEm8cd5"
      },
      "execution_count": null,
      "outputs": []
    },
    {
      "cell_type": "code",
      "source": [
        "arcs, capacity = gp.multidict({('Denver', 'Boston'): 120,\n",
        "                                 ('Denver', 'New York'): 120,\n",
        "                                 ('Denver', 'Seattle'): 120,\n",
        "                                 ('Detroit', 'Boston'): 100,\n",
        "                                 ('Detroit', 'New York'): 80,\n",
        "                                 ('Detroit', 'Seattle'): 120})\n",
        "print(f'Arcs: {arcs}\\n Capacities: {capacity}')"
      ],
      "metadata": {
        "id": "0Wjst40N8CYl"
      },
      "execution_count": null,
      "outputs": []
    },
    {
      "cell_type": "markdown",
      "source": [
        "Define costs for commodities-source-destination triplets, $c_{pij}$"
      ],
      "metadata": {
        "id": "YiklRoR59_Sh"
      }
    },
    {
      "cell_type": "code",
      "source": [
        "cost = {\n",
        "    ('Pencils', 'Detroit', 'Boston'):   10,\n",
        "    ('Pencils', 'Detroit', 'New York'): 20,\n",
        "    ('Pencils', 'Detroit', 'Seattle'):  60,\n",
        "    ('Pencils', 'Denver',  'Boston'):   40,\n",
        "    ('Pencils', 'Denver',  'New York'): 40,\n",
        "    ('Pencils', 'Denver',  'Seattle'):  30,\n",
        "    ('Pens',    'Detroit', 'Boston'):   20,\n",
        "    ('Pens',    'Detroit', 'New York'): 20,\n",
        "    ('Pens',    'Detroit', 'Seattle'):  80,\n",
        "    ('Pens',    'Denver',  'Boston'):   60,\n",
        "    ('Pens',    'Denver',  'New York'): 70,\n",
        "    ('Pens',    'Denver',  'Seattle'):  30}"
      ],
      "metadata": {
        "id": "Zm05_3Vh9xtb"
      },
      "execution_count": null,
      "outputs": []
    },
    {
      "cell_type": "markdown",
      "source": [
        "Define the demands, $b_{pi}$, of each commodity for each city"
      ],
      "metadata": {
        "id": "HoR2p3Cz-2eX"
      }
    },
    {
      "cell_type": "code",
      "source": [
        "inflow = {\n",
        "    ('Pencils', 'Detroit'):   50,\n",
        "    ('Pencils', 'Denver'):    60,\n",
        "    ('Pencils', 'Boston'):   -50,\n",
        "    ('Pencils', 'New York'): -50,\n",
        "    ('Pencils', 'Seattle'):  -10,\n",
        "    ('Pens',    'Detroit'):   60,\n",
        "    ('Pens',    'Denver'):    40,\n",
        "    ('Pens',    'Boston'):   -40,\n",
        "    ('Pens',    'New York'): -30,\n",
        "    ('Pens',    'Seattle'):  -30}"
      ],
      "metadata": {
        "id": "YYbTFl9Q-yek"
      },
      "execution_count": null,
      "outputs": []
    },
    {
      "cell_type": "markdown",
      "source": [
        "Create the model, add the variables using addVars (https://www.gurobi.com/documentation/9.5/refman/py_model_addvars.html) and set the objective function coefficients using the cost dictionary:\n",
        "$$\\min \\sum_{p, i, j} c_{pij}\\times f_{pij}$$"
      ],
      "metadata": {
        "id": "v-ebIhOt_DPx"
      }
    },
    {
      "cell_type": "code",
      "source": [
        "m = gp.Model('netflow')\n",
        "flow = m.addVars(commodities, arcs, obj=cost, name='flow')\n",
        "m.update()\n",
        "print(f\"Model variables: {m.getVars()}\")"
      ],
      "metadata": {
        "id": "VNk61XrC-6z_"
      },
      "execution_count": null,
      "outputs": []
    },
    {
      "cell_type": "code",
      "source": [
        "print(f\"flow: {flow}\")\n",
        "print(f\"flow['Pencils', 'Denver', 'New York']: {flow['Pencils', 'Denver', 'New York']}\")"
      ],
      "metadata": {
        "id": "OEVTuOs1_epr"
      },
      "execution_count": null,
      "outputs": []
    },
    {
      "cell_type": "markdown",
      "source": [
        "Add capacity constraints for each arc:\n",
        "$$\\sum_p f_{pij} \\leq h_{ij},\\ \\forall\\ i, j \\in \\text{Arcs}$$\n",
        "\n",
        "Using the `tupledict.sum` method (https://www.gurobi.com/documentation/9.5/refman/py_tupledict_sum.html), we specify a pattern representing the variables to sum in the tuplecit. In this case, for the arc represented by cities `i` and `j` we sum over all the commodities (represented by the `'*'`):\n",
        "\n"
      ],
      "metadata": {
        "id": "v61VtzNpBMYZ"
      }
    },
    {
      "cell_type": "code",
      "source": [
        "m.addConstrs((flow.sum('*', i, j) <= capacity[i, j] for i, j in arcs), \"cap\")"
      ],
      "metadata": {
        "id": "TiLzViq4_3k8"
      },
      "execution_count": null,
      "outputs": []
    },
    {
      "cell_type": "markdown",
      "source": [
        "Add the flow conservation constraints:\n",
        "$$\\sum_{i} f_{pij} + b_{pj} == \\sum_{i} f_{pij}, \\forall p, \\forall j$$"
      ],
      "metadata": {
        "id": "lmT31_9PCQHI"
      }
    },
    {
      "cell_type": "code",
      "source": [
        "m.addConstrs((flow.sum(h, '*', j) + inflow[h, j] == flow.sum(h, j, '*') for h in commodities for j in nodes), \"node\")"
      ],
      "metadata": {
        "id": "dQR24uU7Bwwr"
      },
      "execution_count": null,
      "outputs": []
    },
    {
      "cell_type": "markdown",
      "source": [
        "Solve the problem and visualize the solution"
      ],
      "metadata": {
        "id": "Imcqg8eICceI"
      }
    },
    {
      "cell_type": "code",
      "source": [
        "m.optimize()\n",
        "\n",
        "# Print solution\n",
        "if m.Status == GRB.OPTIMAL:\n",
        "    solution = m.getAttr('X', flow)\n",
        "    for h in commodities:\n",
        "        print('\\nOptimal flows for %s:' % h)\n",
        "        for i, j in arcs:\n",
        "            if solution[h, i, j] > 0:\n",
        "                print('%s -> %s: %g' % (i, j, solution[h, i, j]))"
      ],
      "metadata": {
        "id": "-QVVVT1VCTo3"
      },
      "execution_count": null,
      "outputs": []
    },
    {
      "cell_type": "markdown",
      "source": [
        "## Minimum Flow w/OR-Tools"
      ],
      "metadata": {
        "id": "FC0okQhFHX3-"
      }
    },
    {
      "cell_type": "code",
      "source": [
        "from ortools.graph import pywrapgraph"
      ],
      "metadata": {
        "id": "D51NHbpxHd1V"
      },
      "execution_count": null,
      "outputs": []
    },
    {
      "cell_type": "markdown",
      "source": [
        "![min_flow.png](data:image/png;base64,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)"
      ],
      "metadata": {
        "id": "XjJqQPDm9AMi"
      }
    },
    {
      "cell_type": "markdown",
      "source": [
        "Define the solver using `pywrapgraph.SimpleMinCostFlow` (https://developers.google.com/optimization/reference/python/graph/pywrapgraph#simplemincostflow)"
      ],
      "metadata": {
        "id": "-4XHMqGYOQLl"
      }
    },
    {
      "cell_type": "code",
      "source": [
        "min_cost_flow = pywrapgraph.SimpleMinCostFlow()"
      ],
      "metadata": {
        "id": "GGZdXQA5MjUb"
      },
      "execution_count": null,
      "outputs": []
    },
    {
      "cell_type": "markdown",
      "source": [
        "Define the arcs in the graph specifing start and end nodes"
      ],
      "metadata": {
        "id": "H5Il2rZ5Owgt"
      }
    },
    {
      "cell_type": "code",
      "source": [
        "start_nodes = [0, 0, 1, 1, 1, 2, 2, 3, 4]\n",
        "end_nodes = [1, 2, 2, 3, 4, 3, 4, 4, 2]"
      ],
      "metadata": {
        "id": "Xem1TbsUONwu"
      },
      "execution_count": null,
      "outputs": []
    },
    {
      "cell_type": "markdown",
      "source": [
        "Set the capacities and costs for each arc"
      ],
      "metadata": {
        "id": "Y1Aw_EQuO8FY"
      }
    },
    {
      "cell_type": "code",
      "source": [
        "capacities = [15, 8, 20, 4, 10, 15, 4, 20, 5]\n",
        "unit_costs = [4, 4, 2, 2, 6, 1, 3, 2, 3]"
      ],
      "metadata": {
        "id": "K25DGLJyO4Xd"
      },
      "execution_count": null,
      "outputs": []
    },
    {
      "cell_type": "markdown",
      "source": [
        "Set the suplies for each node"
      ],
      "metadata": {
        "id": "-F8ZOfRLPCLH"
      }
    },
    {
      "cell_type": "code",
      "source": [
        "supplies = [20, 0, 0, -5, -15]"
      ],
      "metadata": {
        "id": "YFiV6DMgO2HW"
      },
      "execution_count": null,
      "outputs": []
    },
    {
      "cell_type": "markdown",
      "source": [
        "Add the arcs and supply nodes to the solver"
      ],
      "metadata": {
        "id": "9XmauobOPH0O"
      }
    },
    {
      "cell_type": "code",
      "source": [
        "for arc in zip(start_nodes, end_nodes, capacities, unit_costs):\n",
        "    min_cost_flow.AddArcWithCapacityAndUnitCost(arc[0], arc[1], arc[2],\n",
        "                                                arc[3])\n",
        "\n",
        "for count, supply in enumerate(supplies):\n",
        "    min_cost_flow.SetNodeSupply(count, supply)"
      ],
      "metadata": {
        "id": "oNalhvTcMtDU"
      },
      "execution_count": null,
      "outputs": []
    },
    {
      "cell_type": "markdown",
      "source": [
        "Solve the problem and print the solution"
      ],
      "metadata": {
        "id": "p9iL1U2kPLSM"
      }
    },
    {
      "cell_type": "code",
      "source": [
        "status = min_cost_flow.Solve()\n",
        "\n",
        "if status != min_cost_flow.OPTIMAL:\n",
        "    print('There was an issue with the min cost flow input.')\n",
        "    print(f'Status: {status}')\n",
        "    exit(1)\n",
        "print('Minimum cost: ', min_cost_flow.OptimalCost())\n",
        "print('')\n",
        "print(' Arc   Flow / Capacity  Cost')\n",
        "for i in range(min_cost_flow.NumArcs()):\n",
        "    cost = min_cost_flow.Flow(i) * min_cost_flow.UnitCost(i)\n",
        "    print('%1s -> %1s    %3s   / %3s   %3s' %\n",
        "          (min_cost_flow.Tail(i), min_cost_flow.Head(i),\n",
        "           min_cost_flow.Flow(i), min_cost_flow.Capacity(i), cost))"
      ],
      "metadata": {
        "id": "0YLnUGGRM0tz"
      },
      "execution_count": null,
      "outputs": []
    },
    {
      "cell_type": "markdown",
      "source": [
        "## Max Flow problem w/OR-Tools"
      ],
      "metadata": {
        "id": "fd1klECqPTW4"
      }
    },
    {
      "cell_type": "markdown",
      "source": [
        "Using the SimpleMinCostFlow solver, solve the following max flow problem"
      ],
      "metadata": {
        "id": "NkRFwl0gPYcs"
      }
    },
    {
      "cell_type": "markdown",
      "source": [
        "![max_flow.png](data:image/png;base64,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)"
      ],
      "metadata": {
        "id": "UIsN_iUW9rxH"
      }
    },
    {
      "cell_type": "markdown",
      "source": [
        "Define the solver, start and end nodes"
      ],
      "metadata": {
        "id": "cKJ22wVBPnhH"
      }
    },
    {
      "cell_type": "code",
      "source": [
        "from ortools.graph import pywrapgraph\n",
        "min_cost_flow = ...\n",
        "start_nodes = ...\n",
        "end_nodes = ..."
      ],
      "metadata": {
        "id": "ZKaH93GPPl8W"
      },
      "execution_count": null,
      "outputs": []
    },
    {
      "cell_type": "markdown",
      "source": [
        "Define the capacities, unit costs and supplies"
      ],
      "metadata": {
        "id": "3ovpwaiPPsju"
      }
    },
    {
      "cell_type": "code",
      "source": [
        "capacities = ...\n",
        "unit_costs = ...\n",
        "supplies = ..."
      ],
      "metadata": {
        "id": "_lj7t9a9Pw4n"
      },
      "execution_count": null,
      "outputs": []
    },
    {
      "cell_type": "markdown",
      "source": [
        "Add arcs and nodes to the solver"
      ],
      "metadata": {
        "id": "ZooiTIsXP1WG"
      }
    },
    {
      "cell_type": "code",
      "source": [
        "..."
      ],
      "metadata": {
        "id": "O4hiNdBeJHvU"
      },
      "execution_count": null,
      "outputs": []
    },
    {
      "cell_type": "markdown",
      "source": [
        "Solve the problem and print the solution"
      ],
      "metadata": {
        "id": "CnfPpFmAQAcI"
      }
    },
    {
      "cell_type": "code",
      "source": [
        "status = min_cost_flow.Solve()\n",
        "\n",
        "if status != min_cost_flow.OPTIMAL:\n",
        "    print('There was an issue with the min cost flow input.')\n",
        "    print(f'Status: {status}')\n",
        "    exit(1)\n",
        "print('Minimum cost: ', min_cost_flow.OptimalCost())\n",
        "print('')\n",
        "print(' Arc   Flow / Capacity  Cost')\n",
        "for i in range(min_cost_flow.NumArcs()):\n",
        "    cost = min_cost_flow.Flow(i) * min_cost_flow.UnitCost(i)\n",
        "    print('%1s -> %1s    %3s   / %3s   %3s' %\n",
        "          (min_cost_flow.Tail(i), min_cost_flow.Head(i),\n",
        "           min_cost_flow.Flow(i), min_cost_flow.Capacity(i), cost))"
      ],
      "metadata": {
        "id": "LoqHr4jhKHds"
      },
      "execution_count": null,
      "outputs": []
    },
    {
      "cell_type": "markdown",
      "source": [
        "### Lets do the same with the `SimpleMaxFlow` solver"
      ],
      "metadata": {
        "id": "Gl4bW8SmQEsI"
      }
    },
    {
      "cell_type": "code",
      "source": [
        "from ortools.graph import pywrapgraph\n",
        "max_flow = pywrapgraph.SimpleMaxFlow()\n",
        "start_nodes = [0, 0, 0, 1, 1, 2, 2, 3, 3]\n",
        "end_nodes = [1, 2, 3, 2, 4, 3, 4, 2, 4]\n",
        "capacities = [20, 30, 10, 40, 30, 10, 20, 5, 20]\n"
      ],
      "metadata": {
        "id": "T5_reIBuHbvq"
      },
      "execution_count": null,
      "outputs": []
    },
    {
      "cell_type": "markdown",
      "source": [
        "Add arcs with capacity"
      ],
      "metadata": {
        "id": "wTiq4QfUQSCn"
      }
    },
    {
      "cell_type": "code",
      "source": [
        "for arc in zip(start_nodes, end_nodes, capacities):\n",
        "    max_flow.AddArcWithCapacity(arc[0], arc[1], arc[2])\n"
      ],
      "metadata": {
        "id": "2t50P2RuHrGb"
      },
      "execution_count": null,
      "outputs": []
    },
    {
      "cell_type": "markdown",
      "source": [
        "Solve and print the solution"
      ],
      "metadata": {
        "id": "AkNuZKiyQXUY"
      }
    },
    {
      "cell_type": "code",
      "source": [
        "status = max_flow.Solve(0, 4) #Here we need to specify the source and sink nodes\n",
        "\n",
        "if status != max_flow.OPTIMAL:\n",
        "    print('There was an issue with the max flow input.')\n",
        "    print(f'Status: {status}')\n",
        "    exit(1)\n",
        "print('Max flow:', max_flow.OptimalFlow())\n",
        "print('')\n",
        "print('  Arc    Flow / Capacity')\n",
        "for i in range(max_flow.NumArcs()):\n",
        "    print('%1s -> %1s   %3s  / %3s' %\n",
        "          (max_flow.Tail(i), max_flow.Head(i), max_flow.Flow(i),\n",
        "           max_flow.Capacity(i)))\n",
        "print('Source side min-cut:', max_flow.GetSourceSideMinCut())\n",
        "print('Sink side min-cut:', max_flow.GetSinkSideMinCut())"
      ],
      "metadata": {
        "id": "4l_ZVqnoJLVo"
      },
      "execution_count": null,
      "outputs": []
    },
    {
      "cell_type": "markdown",
      "source": [
        "## Assignment as Minimum Cost Flow"
      ],
      "metadata": {
        "id": "SgKvc_Wo-H06"
      }
    },
    {
      "cell_type": "markdown",
      "source": [
        "Using the min cost flow solver, solve an assignment problem with 4 workers, 4 tasks and the following cost matrix:\n",
        "\\begin{array}{|c|c|c|c|}\\hline\n",
        "   & T1 & T2 & T3 & T4\\\\ \\hline\n",
        "W1 & 90 & 76 & 75 & 70\\\\ \\hline\n",
        "W2 & 35 & 85 & 55 & 65\\\\ \\hline\n",
        "W3 & 125& 95 &  90 & 105\\\\ \\hline\n",
        "W4 & 45 & 10 &  95 & 115\\\\ \\hline \n",
        "\\end{array}\n"
      ],
      "metadata": {
        "id": "0ML4G2fu-pLO"
      }
    },
    {
      "cell_type": "markdown",
      "source": [
        "Define the solver and the arcs"
      ],
      "metadata": {
        "id": "bCVs4v5kBchN"
      }
    },
    {
      "cell_type": "code",
      "source": [
        "from ortools.graph import pywrapgraph\n",
        "min_cost_flow = ..."
      ],
      "metadata": {
        "id": "9Xn2p4cmC8WI"
      },
      "execution_count": null,
      "outputs": []
    },
    {
      "cell_type": "code",
      "source": [
        "start_nodes = ...\n",
        "end_nodes = ..."
      ],
      "metadata": {
        "id": "O4EhEwCaBeyc"
      },
      "execution_count": null,
      "outputs": []
    },
    {
      "cell_type": "markdown",
      "source": [
        "Define the capacities and costs"
      ],
      "metadata": {
        "id": "9MRV_ky2Bm1U"
      }
    },
    {
      "cell_type": "code",
      "source": [
        "capacities = ...\n",
        "costs = ..."
      ],
      "metadata": {
        "id": "aTMMqbcqBlu8"
      },
      "execution_count": null,
      "outputs": []
    },
    {
      "cell_type": "markdown",
      "source": [
        "Define the supplies, source and sink nodes"
      ],
      "metadata": {
        "id": "NrFWRlwhBsSf"
      }
    },
    {
      "cell_type": "code",
      "source": [
        "source = ...\n",
        "sink = ...\n",
        "supplies = ..."
      ],
      "metadata": {
        "id": "kIS56PCbQgIL"
      },
      "execution_count": null,
      "outputs": []
    },
    {
      "cell_type": "markdown",
      "source": [
        "Add the arcs to the solver"
      ],
      "metadata": {
        "id": "Dvj3ljUCCFxn"
      }
    },
    {
      "cell_type": "code",
      "source": [
        "..."
      ],
      "metadata": {
        "id": "5hT_9x1rB1PV"
      },
      "execution_count": null,
      "outputs": []
    },
    {
      "cell_type": "markdown",
      "source": [
        "Set the nodes supplies"
      ],
      "metadata": {
        "id": "q6ya_z3XCR5B"
      }
    },
    {
      "cell_type": "code",
      "source": [
        "..."
      ],
      "metadata": {
        "id": "EfukuKyxCRGh"
      },
      "execution_count": null,
      "outputs": []
    },
    {
      "cell_type": "markdown",
      "source": [
        "Solve the problem"
      ],
      "metadata": {
        "id": "EVSfCHEkCWeM"
      }
    },
    {
      "cell_type": "code",
      "source": [
        "status = min_cost_flow.Solve()"
      ],
      "metadata": {
        "id": "fIHN8TEUCXwD"
      },
      "execution_count": null,
      "outputs": []
    },
    {
      "cell_type": "markdown",
      "source": [
        "Print the solution"
      ],
      "metadata": {
        "id": "YEudA3OJCYxr"
      }
    },
    {
      "cell_type": "code",
      "source": [
        "if status == min_cost_flow.OPTIMAL:\n",
        "    print('Total cost = ', min_cost_flow.OptimalCost())\n",
        "    print()\n",
        "    for arc in range(min_cost_flow.NumArcs()):\n",
        "        # Can ignore arcs leading out of source or into sink.\n",
        "        if min_cost_flow.Tail(arc) != source and min_cost_flow.Head(\n",
        "                arc) != sink:\n",
        "\n",
        "            # Arcs in the solution have a flow value of 1. Their start and end nodes\n",
        "            # give an assignment of worker to task.\n",
        "            if min_cost_flow.Flow(arc) > 0:\n",
        "                print('Worker %d assigned to task %d.  Cost = %d' %\n",
        "                      (min_cost_flow.Tail(arc), min_cost_flow.Head(arc),\n",
        "                       min_cost_flow.UnitCost(arc)))\n",
        "else:\n",
        "    print('There was an issue with the min cost flow input.')\n",
        "    print(f'Status: {status}')"
      ],
      "metadata": {
        "id": "s3UwtHdwCadB"
      },
      "execution_count": null,
      "outputs": []
    },
    {
      "cell_type": "code",
      "source": [
        ""
      ],
      "metadata": {
        "id": "4WkUsxzADMW4"
      },
      "execution_count": null,
      "outputs": []
    }
  ]
}